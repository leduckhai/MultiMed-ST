{
 "cells": [
  {
   "cell_type": "code",
   "execution_count": null,
   "metadata": {},
   "outputs": [],
   "source": [
    "from unsloth import FastLanguageModel\n",
    "import torch\n",
    "max_seq_length = 2048 # Choose any! We auto support RoPE Scaling internally!\n",
    "dtype = None # None for auto detection. Float16 for Tesla T4, V100, Bfloat16 for Ampere+\n",
    "load_in_4bit = True # Use 4bit quantization to reduce memory usage. Can be False.\n",
    "\n",
    "# 4bit pre quantized models we support for 4x faster downloading + no OOMs.\n",
    "fourbit_models = [\n",
    "    \"unsloth/Meta-Llama-3.1-8B-bnb-4bit\",      # Llama-3.1 15 trillion tokens model 2x faster!\n",
    "    \"unsloth/Meta-Llama-3.1-8B-Instruct-bnb-4bit\",\n",
    "    \"unsloth/Meta-Llama-3.1-70B-bnb-4bit\",\n",
    "    \"unsloth/Meta-Llama-3.1-405B-bnb-4bit\",    # We also uploaded 4bit for 405b!\n",
    "    \"unsloth/Mistral-Nemo-Base-2407-bnb-4bit\", # New Mistral 12b 2x faster!\n",
    "    \"unsloth/Mistral-Nemo-Instruct-2407-bnb-4bit\",\n",
    "    \"unsloth/mistral-7b-v0.3-bnb-4bit\",        # Mistral v3 2x faster!\n",
    "    \"unsloth/mistral-7b-instruct-v0.3-bnb-4bit\",\n",
    "    \"unsloth/Phi-3.5-mini-instruct\",           # Phi-3.5 2x faster!\n",
    "    \"unsloth/Phi-3-medium-4k-instruct\",\n",
    "    \"unsloth/gemma-2-9b-bnb-4bit\",\n",
    "    \"unsloth/gemma-2-27b-bnb-4bit\",            # Gemma 2x faster!\n",
    "] # More models at https://huggingface.co/unsloth\n",
    "\n",
    "model, tokenizer = FastLanguageModel.from_pretrained(\n",
    "    model_name = \"unsloth/Qwen2.5-7B-Instruct-bnb-4bit\",\n",
    "    max_seq_length = max_seq_length,\n",
    "    dtype = dtype,\n",
    "    load_in_4bit = load_in_4bit,\n",
    "    # token = \"hf_...\", # use one if using gated models like meta-llama/Llama-2-7b-hf\n",
    ")"
   ]
  },
  {
   "cell_type": "code",
   "execution_count": null,
   "metadata": {},
   "outputs": [],
   "source": [
    "model = FastLanguageModel.get_peft_model(\n",
    "    model,\n",
    "    r = 16, # Choose any number > 0 ! Suggested 8, 16, 32, 64, 128\n",
    "    target_modules = [\"q_proj\", \"k_proj\", \"v_proj\", \"o_proj\",\n",
    "                      \"gate_proj\", \"up_proj\", \"down_proj\",],\n",
    "    lora_alpha = 16,\n",
    "    lora_dropout = 0, # Supports any, but = 0 is optimized\n",
    "    bias = \"none\",    # Supports any, but = \"none\" is optimized\n",
    "    # [NEW] \"unsloth\" uses 30% less VRAM, fits 2x larger batch sizes!\n",
    "    use_gradient_checkpointing = \"unsloth\", # True or \"unsloth\" for very long context\n",
    "    random_state = 3407,\n",
    "    use_rslora = False,  # We support rank stabilized LoRA\n",
    "    loftq_config = None, # And LoftQ\n",
    ")"
   ]
  },
  {
   "cell_type": "code",
   "execution_count": null,
   "metadata": {},
   "outputs": [],
   "source": [
    "from huggingface_hub import login\n",
    "login(token=\"HF token\")"
   ]
  },
  {
   "cell_type": "code",
   "execution_count": null,
   "metadata": {},
   "outputs": [],
   "source": [
    "from datasets import load_dataset, DatasetDict, Dataset\n",
    "import re\n",
    "import string\n",
    "\n",
    "data = DatasetDict()\n",
    "\n",
    "data = load_dataset(\"wnkh/MultiMed\", 'Chinese')\n",
    "source_language = 'Chinese'\n",
    "target_language = 'Vietnamese'\n"
   ]
  },
  {
   "cell_type": "code",
   "execution_count": null,
   "metadata": {},
   "outputs": [],
   "source": [
    "def normalize_text_to_chars(text):\n",
    "    punctuation_to_remove_regex = f\"[{re.escape(string.punctuation)}]\"\n",
    "    # Replace punctuation with a space\n",
    "    text = re.sub(punctuation_to_remove_regex, \" \", text).strip() if isinstance(text, str) else text\n",
    "    # Make each character a word by inserting spaces\n",
    "    return \" \".join(text) if isinstance(text, str) else text\n",
    "\n",
    "def map_to_multilingual_format(example):\n",
    "    \"\"\"\n",
    "    Map the dataset fields to a multilingual translation format.\n",
    "    \"\"\"\n",
    "    languages = ['English', 'Vietnamese', 'German', 'Chinese', 'French']\n",
    "    \n",
    "    # Create instruction for multilingual translation\n",
    "    instruction = \"Translate the following text into multiple languages.\"\n",
    "    \n",
    "    # Prepare input and outputs\n",
    "    input_text = example['text']\n",
    "    translations = {lang: example[lang] for lang in languages if lang in example}\n",
    "    \n",
    "    # Format the output as a structured response\n",
    "    output = \"\\n\".join([f\"{lang}: {translations[lang]}\" for lang in translations if translations[lang] is not None])\n",
    "    \n",
    "    return {\n",
    "        \"instruction\": instruction,\n",
    "        \"input\": input_text,\n",
    "        \"output\": output\n",
    "    }\n",
    "    \n",
    "for split in ['train', 'eval']:\n",
    "    if 'Chinese' in raw_dataset[split].column_names:\n",
    "        raw_dataset[split] = raw_dataset[split].map(\n",
    "            lambda example: {'Chinese': normalize_text_to_chars(example['Chinese'])}\n",
    "        )\n",
    "    raw_dataset[split] = raw_dataset[split].map(\n",
    "        lambda example: {'text': normalize_text_to_chars(example['text']) if isinstance(example['text'], str) else example['text']}\n",
    "    )\n",
    "    \n",
    "data_train = raw_dataset[\"train\"].map(map_to_multilingual_format)\n",
    "data_eval = raw_dataset[\"eval\"].map(map_to_multilingual_format)\n"
   ]
  },
  {
   "cell_type": "code",
   "execution_count": null,
   "metadata": {},
   "outputs": [],
   "source": [
    "alpaca_prompt = \"\"\"Below is an instruction that describes a task, paired with an input that provides further context. Write a response that appropriately completes the request.\n",
    "\n",
    "### Instruction:\n",
    "{}\n",
    "\n",
    "### Input:\n",
    "{}\n",
    "\n",
    "### Response:\n",
    "{}\"\"\"\n"
   ]
  },
  {
   "cell_type": "code",
   "execution_count": null,
   "metadata": {},
   "outputs": [],
   "source": [
    "def formatting_prompts_func(examples):\n",
    "    texts = []\n",
    "    for instruction, input_text, output in zip(examples[\"instruction\"], examples[\"input\"], examples[\"output\"]):\n",
    "        if input_text and output:  # Only include non-empty examples\n",
    "            text = alpaca_prompt.format(instruction, input_text, output)\n",
    "            texts.append(text)\n",
    "    return {\"text\": texts}\n",
    "\n",
    "dataset = data_train.map(formatting_prompts_func, batched=True, remove_columns=data_train.column_names)\n",
    "eval_dataset = data_eval.map(formatting_prompts_func, batched=True, remove_columns=data_eval.column_names)"
   ]
  },
  {
   "cell_type": "code",
   "execution_count": null,
   "metadata": {},
   "outputs": [],
   "source": [
    "from trl import SFTTrainer\n",
    "from transformers import TrainingArguments\n",
    "from unsloth import is_bfloat16_supported\n",
    "\n",
    "trainer = SFTTrainer(\n",
    "    model = model,\n",
    "    tokenizer = tokenizer,\n",
    "    train_dataset = dataset,\n",
    "    eval_dataset = eval_dataset,\n",
    "    dataset_text_field = \"text\",\n",
    "    max_seq_length = max_seq_length,\n",
    "    dataset_num_proc = 4,\n",
    "    packing = False, # Can make training 5x faster for short sequences.\n",
    "    args = TrainingArguments(\n",
    "        per_device_train_batch_size = 8,  # Increased batch size\n",
    "        gradient_accumulation_steps = 2,  # Reduced for faster updates\n",
    "        warmup_ratio = 0.01,  # Minimal warmup\n",
    "        num_train_epochs = 1,  # Single epoch\n",
    "        max_steps = 1000,  # Hard limit on training steps\n",
    "        learning_rate = 2e-4,  # Increased learning rate\n",
    "        fp16 = not is_bfloat16_supported(),\n",
    "        bf16 = is_bfloat16_supported(),\n",
    "        logging_steps = 100,\n",
    "        optim = \"adamw_8bit\",\n",
    "        weight_decay = 0.01,\n",
    "        lr_scheduler_type = \"linear\",  # Simpler scheduler\n",
    "        seed = 3407,\n",
    "        output_dir = \"\",\n",
    "        evaluation_strategy = \"steps\",\n",
    "        eval_steps = 250,  # Less frequent evaluation\n",
    "        save_strategy = \"steps\",\n",
    "        save_steps = 500,  # Save only twice\n",
    "        save_total_limit = 2,  # Keep only 2 checkpoints\n",
    "        report_to = \"wandb\",\n",
    "        gradient_checkpointing = True,\n",
    "    ),\n",
    ")"
   ]
  },
  {
   "cell_type": "code",
   "execution_count": null,
   "metadata": {},
   "outputs": [],
   "source": [
    "gpu_stats = torch.cuda.get_device_properties(0)\n",
    "start_gpu_memory = round(torch.cuda.max_memory_reserved() / 1024 / 1024 / 1024, 3)\n",
    "max_memory = round(gpu_stats.total_memory / 1024 / 1024 / 1024, 3)\n",
    "print(f\"GPU = {gpu_stats.name}. Max memory = {max_memory} GB.\")\n",
    "print(f\"{start_gpu_memory} GB of memory reserved.\")"
   ]
  },
  {
   "cell_type": "code",
   "execution_count": null,
   "metadata": {},
   "outputs": [],
   "source": [
    "trainer_stats = trainer.train()"
   ]
  }
 ],
 "metadata": {
  "kernelspec": {
   "display_name": "acl",
   "language": "python",
   "name": "python3"
  },
  "language_info": {
   "codemirror_mode": {
    "name": "ipython",
    "version": 3
   },
   "file_extension": ".py",
   "mimetype": "text/x-python",
   "name": "python",
   "nbconvert_exporter": "python",
   "pygments_lexer": "ipython3",
   "version": "3.11.10"
  }
 },
 "nbformat": 4,
 "nbformat_minor": 2
}
